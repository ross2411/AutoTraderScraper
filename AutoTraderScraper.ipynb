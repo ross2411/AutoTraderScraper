{
  "nbformat": 4,
  "nbformat_minor": 0,
  "metadata": {
    "colab": {
      "provenance": [],
      "authorship_tag": "ABX9TyMas9bhLmhvKDBgLGC3msg0",
      "include_colab_link": true
    },
    "kernelspec": {
      "name": "python3",
      "display_name": "Python 3"
    },
    "language_info": {
      "name": "python"
    }
  },
  "cells": [
    {
      "cell_type": "markdown",
      "metadata": {
        "id": "view-in-github",
        "colab_type": "text"
      },
      "source": [
        "<a href=\"https://colab.research.google.com/github/ross2411/AutoTraderScraper/blob/main/AutoTraderScraper.ipynb\" target=\"_parent\"><img src=\"https://colab.research.google.com/assets/colab-badge.svg\" alt=\"Open In Colab\"/></a>"
      ]
    },
    {
      "cell_type": "code",
      "source": [
        "# Install a pip package in the current Jupyter kernel\n",
        "import sys\n",
        "!{sys.executable} -m pip install cloudscraper"
      ],
      "metadata": {
        "colab": {
          "base_uri": "https://localhost:8080/"
        },
        "id": "Jfz5X5h38_5n",
        "outputId": "0e555fb0-e613-4c12-f648-f4ae84d10053"
      },
      "execution_count": 16,
      "outputs": [
        {
          "output_type": "stream",
          "name": "stdout",
          "text": [
            "Looking in indexes: https://pypi.org/simple, https://us-python.pkg.dev/colab-wheels/public/simple/\n",
            "Collecting cloudscraper\n",
            "  Downloading cloudscraper-1.2.66-py2.py3-none-any.whl (98 kB)\n",
            "\u001b[K     |████████████████████████████████| 98 kB 5.7 MB/s \n",
            "\u001b[?25hCollecting requests-toolbelt>=0.9.1\n",
            "  Downloading requests_toolbelt-0.10.1-py2.py3-none-any.whl (54 kB)\n",
            "\u001b[K     |████████████████████████████████| 54 kB 3.1 MB/s \n",
            "\u001b[?25hRequirement already satisfied: requests>=2.9.2 in /usr/local/lib/python3.8/dist-packages (from cloudscraper) (2.23.0)\n",
            "Requirement already satisfied: pyparsing>=2.4.7 in /usr/local/lib/python3.8/dist-packages (from cloudscraper) (3.0.9)\n",
            "Requirement already satisfied: certifi>=2017.4.17 in /usr/local/lib/python3.8/dist-packages (from requests>=2.9.2->cloudscraper) (2022.12.7)\n",
            "Requirement already satisfied: idna<3,>=2.5 in /usr/local/lib/python3.8/dist-packages (from requests>=2.9.2->cloudscraper) (2.10)\n",
            "Requirement already satisfied: chardet<4,>=3.0.2 in /usr/local/lib/python3.8/dist-packages (from requests>=2.9.2->cloudscraper) (3.0.4)\n",
            "Requirement already satisfied: urllib3!=1.25.0,!=1.25.1,<1.26,>=1.21.1 in /usr/local/lib/python3.8/dist-packages (from requests>=2.9.2->cloudscraper) (1.24.3)\n",
            "Installing collected packages: requests-toolbelt, cloudscraper\n",
            "Successfully installed cloudscraper-1.2.66 requests-toolbelt-0.10.1\n"
          ]
        }
      ]
    },
    {
      "cell_type": "code",
      "execution_count": 1,
      "metadata": {
        "id": "7OIj5Gnw1Kgw"
      },
      "outputs": [],
      "source": [
        "import requests\n",
        "from bs4 import BeautifulSoup\n",
        "\n"
      ]
    },
    {
      "cell_type": "code",
      "source": [
        "URL = \"https://realpython.github.io/fake-jobs/\"\n",
        "page = requests.get(URL)\n",
        "\n",
        "soup = BeautifulSoup(page.content, \"html.parser\")"
      ],
      "metadata": {
        "id": "sKTL1RHZ1PsN"
      },
      "execution_count": 2,
      "outputs": []
    },
    {
      "cell_type": "code",
      "source": [
        "results = soup.find(id=\"ResultsContainer\")\n",
        "\n",
        "job_elements = results.find_all(\"div\", class_=\"card-content\")\n",
        "\n",
        "for job_element in job_elements:\n",
        "    title_element = job_element.find(\"h2\", class_=\"title\")\n",
        "    company_element = job_element.find(\"h3\", class_=\"company\")\n",
        "    location_element = job_element.find(\"p\", class_=\"location\")\n",
        "    print(title_element.text.strip())\n",
        "    print(company_element.text.strip())\n",
        "    print(location_element.text.strip())\n",
        "    print()"
      ],
      "metadata": {
        "id": "1kR1_2a-1W-W"
      },
      "execution_count": null,
      "outputs": []
    },
    {
      "cell_type": "code",
      "source": [
        "from IPython.core.interactiveshell import error\n",
        "import cloudscraper\n",
        "import json\n",
        "scraper = cloudscraper.create_scraper()\n",
        "urlAutoTrader = \"https://www.autotrader.co.uk/car-search?postcode=GU105QZ&make=BMW&model=i8&include-delivery-option=on&advertising-location=at_cars&page=1\"\n",
        "\n",
        "r = scraper.get(urlAutoTrader).text \n",
        "\n",
        "soupAT = BeautifulSoup(r, \"html.parser\")\n",
        "resultsAT = soupAT.find(\"div\", class_=\"search-page__results\")\n",
        "if (resultsAT is None):\n",
        "  print(resultsAT)\n",
        "  print(\"failed\")\n",
        "  raise error(\"unable to complete\")\n",
        "lis = resultsAT.find_all(\"li\")\n",
        "for idx, item in enumerate(lis):\n",
        "  carInfo = item.find(\"div\", class_=\"product-card-content__car-info\")\n",
        "  if (carInfo is None):\n",
        "    continue\n",
        "  print(idx)\n",
        "  price = carInfo.find(\"div\", class_=\"product-card-pricing__price\")\n",
        "  print(price.text.strip())\n",
        "  #print(item)\n",
        "  title = item.find(\"h3\", class_=\"product-card-details__title\").text.strip()\n",
        "  print(title)\n",
        "  subtitle = item.find(\"p\", class_=\"product-card-details__subtitle\").text.strip()\n",
        "  print(subtitle)\n",
        "  features = item.find_all(\"li\", class_=\"atc-type-picanto--medium\")\n",
        "  for feature in features:\n",
        "    print(feature.text.strip())\n",
        "  "
      ],
      "metadata": {
        "colab": {
          "base_uri": "https://localhost:8080/"
        },
        "id": "TboU-pPP2JNq",
        "outputId": "c2bf7de9-e994-441a-805c-95ee1f0a92cb"
      },
      "execution_count": 46,
      "outputs": [
        {
          "output_type": "stream",
          "name": "stdout",
          "text": [
            "0\n",
            "£46,500\n",
            "BMW I8\n",
            "1.5 I8 2d 228 BHP HEATED SEATS & 20\" ALLOYS\n",
            "2016 (16 reg)\n",
            "Coupe\n",
            "32,220 miles\n",
            "1.5L\n",
            "228BHP\n",
            "Automatic\n",
            "Petrol Plug-in Hybrid\n",
            "12\n",
            "£36,750\n",
            "BMW i8\n",
            "i8 1.5 7.1kWh Auto 4WD Euro 6 (s/s) 2dr\n",
            "2014 (14 reg)\n",
            "Coupe\n",
            "86,000 miles\n",
            "1.5L\n",
            "362PS\n",
            "Automatic\n",
            "Petrol Plug-in Hybrid\n",
            "3 owners\n",
            "25\n",
            "£39,070\n",
            "BMW i8\n",
            "1.5 7.1kWh Coupe 2dr Petrol Plug-in Hybrid Auto 4WD Euro 6 (s/s) (362 ps)\n",
            "2015 (15 reg)\n",
            "Coupe\n",
            "55,000 miles\n",
            "1.5L\n",
            "362PS\n",
            "Automatic\n",
            "Petrol Plug-in Hybrid\n",
            "5 owners\n",
            "Full service history\n",
            "37\n",
            "£45,995\n",
            "BMW i8\n",
            "2dr Auto 1.5\n",
            "2015 (15 reg)\n",
            "Coupe\n",
            "21,500 miles\n",
            "1.5L\n",
            "362BHP\n",
            "Automatic\n",
            "Petrol Plug-in Hybrid\n",
            "50\n",
            "£49,995\n",
            "BMW i8\n",
            "1.5 7.1kWh Auto 4WD Euro 6 (s/s) 2dr\n",
            "2016 (16 reg)\n",
            "Coupe\n",
            "11,731 miles\n",
            "1.5L\n",
            "362PS\n",
            "Automatic\n",
            "Petrol Plug-in Hybrid\n",
            "2 owners\n",
            "63\n",
            "£46,490\n",
            "BMW i8\n",
            "1.5 7.1kWh Auto 4WD Euro 6 (s/s) 2dr\n",
            "2016 (16 reg)\n",
            "Coupe\n",
            "29,999 miles\n",
            "1.5L\n",
            "362PS\n",
            "Automatic\n",
            "Petrol Plug-in Hybrid\n",
            "74\n",
            "£44,989\n",
            "BMW i8\n",
            "1.5 7.1kWh Auto 4WD Euro 6 (s/s) 2dr\n",
            "2015 (65 reg)\n",
            "Coupe\n",
            "29,000 miles\n",
            "1.5L\n",
            "362PS\n",
            "Automatic\n",
            "Petrol Plug-in Hybrid\n",
            "87\n",
            "£44,989\n",
            "BMW I8\n",
            "1.5 I8 2d 228 BHP 0% DEPOSIT FINANCE AVAILABLE!\n",
            "2017 (17 reg)\n",
            "Coupe\n",
            "50,000 miles\n",
            "1.5L\n",
            "228BHP\n",
            "Automatic\n",
            "Petrol Plug-in Hybrid\n",
            "2 owners\n",
            "Full service history\n",
            "101\n",
            "£40,995\n",
            "BMW i8\n",
            "1.5 7.1kWh Auto 4WD Euro 6 (s/s) 2dr\n",
            "2015 (15 reg)\n",
            "Coupe\n",
            "62,000 miles\n",
            "1.5L\n",
            "362PS\n",
            "Automatic\n",
            "Petrol Plug-in Hybrid\n",
            "3 owners\n",
            "Full dealership history\n",
            "115\n",
            "£56,950\n",
            "BMW i8\n",
            "2dr Auto 1.5\n",
            "2018 (18 reg)\n",
            "Coupe\n",
            "18,000 miles\n",
            "1.5L\n",
            "362BHP\n",
            "Automatic\n",
            "Petrol Plug-in Hybrid\n",
            "2 owners\n",
            "128\n",
            "£43,995\n",
            "BMW i8\n",
            "1.5 7.1kWh Auto 4WD Euro 6 (s/s) 2dr\n",
            "2016 (66 reg)\n",
            "Coupe\n",
            "37,703 miles\n",
            "1.5L\n",
            "362PS\n",
            "Automatic\n",
            "Petrol Plug-in Hybrid\n",
            "2 owners\n",
            "Full service history\n",
            "140\n",
            "£44,989\n",
            "BMW I8\n",
            "1.5 I8 2d 228 BHP 0% DEPOSIT FINANCE AVAILABLE!\n",
            "2017 (17 reg)\n",
            "Coupe\n",
            "50,000 miles\n",
            "1.5L\n",
            "228BHP\n",
            "Automatic\n",
            "Petrol Plug-in Hybrid\n",
            "2 owners\n",
            "Full service history\n",
            "154\n",
            "£46,500\n",
            "BMW I8\n",
            "1.5 I8 2d 228 BHP HEATED SEATS & 20\" ALLOYS\n",
            "2016 (16 reg)\n",
            "Coupe\n",
            "32,220 miles\n",
            "1.5L\n",
            "228BHP\n",
            "Automatic\n",
            "Petrol Plug-in Hybrid\n"
          ]
        }
      ]
    }
  ]
}